{
  "nbformat": 4,
  "nbformat_minor": 0,
  "metadata": {
    "colab": {
      "provenance": [],
      "authorship_tag": "ABX9TyP1bxjmLikm8rA7K9+IHw9H",
      "include_colab_link": true
    },
    "kernelspec": {
      "name": "python3",
      "display_name": "Python 3"
    },
    "language_info": {
      "name": "python"
    }
  },
  "cells": [
    {
      "cell_type": "markdown",
      "metadata": {
        "id": "view-in-github",
        "colab_type": "text"
      },
      "source": [
        "<a href=\"https://colab.research.google.com/github/larrynle/Optimal-Investment-Strategy-using-Linear-Programming/blob/main/Optimal_Investment_Strategy_using_Linear_Programming.ipynb\" target=\"_parent\"><img src=\"https://colab.research.google.com/assets/colab-badge.svg\" alt=\"Open In Colab\"/></a>"
      ]
    },
    {
      "cell_type": "markdown",
      "source": [
        "# LP formulation for an investment problem\n",
        "\n",
        "Welcome to the world of finance!\n",
        "We are interested in investing in a portfolio of various stocks where we wish to\n",
        "maximize the overall return (profit/gain) on the investment but at the same time we do not want our investment to be diversified and the Price-to-Earnings (PE) ratio to be not too high, etc.. in order to mitigate risk.  In this problem, we will develop a portfolio using linear programming.\n",
        "\n",
        " - The total budget available is given to us as an input $B > 0$.\n",
        " - We are also given a set of possible stocks and the corresponding data. The data for each investment includes:\n",
        "   - Expected return of each investment.\n",
        "   - The current price/unit of the stock.\n",
        "   - The last earnings/unit of the stock.\n",
        "   - The market category of the investment: Commodities, Tech, HealthCare\n",
        "   \n",
        "The goal is to formulate a linear programming problem for the given data in order to maximize the overall expected return subject to the following constraints:\n",
        "  - The total cost of the investment must be less than or equal to $B$.\n",
        "  - We are only allowed by buy non-negative ($\\geq 0$) amounts of each stock (short selling is not allowed). You can buy fractions of a stock (it is interesting how that works but many online trading houses let you do that).\n",
        "  - The investment must be balanced:\n",
        "    - The amount invested in each market category should be less than or equal to  2/3rds of the total budget.\n",
        "    - The amount invested in each market category should be at least 1/6ths of the total budget.\n",
        "  - The price to earnings ratio of the overall portfolio should not exceed $15$.\n",
        "  \n",
        "\n",
        "\n",
        "Suppose we have the following six investments with IDs 1 -6 and the data (this data is purely fictional) as shown below:\n",
        "\n",
        "$$\\begin{array}{|l|l|l|l|l|l|}\n",
        "\\hline\n",
        "\\text{ID} & \\text{Stock} & \\text{Price/Unit} & \\text{Expected Return/Unit} & \\text{Earnings/Unit} & \\text{Category} \\\\\n",
        "\\hline\n",
        "1 & \\text{IBM} & 129 & 25 & 1.9 & \\text{Tech} \\\\\n",
        "2 & \\text{META} & 286 & 20 & 8.1 & \\text{Tech} \\\\\n",
        "3 & \\text{Astra-Zeneca} & 72.29 & 3 &  1.5 & \\text{Health} \\\\\n",
        "4 & \\text{Pfizer} & 38 & 1.5 & 5 & \\text{Health} \\\\\n",
        "5 & \\text{Unilever} & 52 & 3 & 2.5 & \\text{Commodities} \\\\\n",
        "6 & \\text{Procter-Gamble} & 148 & 4.50 & 5.2& \\text{Commodities}\\\\\n",
        "\\hline\n",
        "\\end{array}$$\n",
        "\n",
        "Let $x_1, \\ldots, x_6$ be the decision variables wherein $x_i$ is the number of units of stock ID $i$ purchased.\n",
        "  \n",
        " Write down the expression for the objective function in terms of $x_1, \\ldots, x_6$. Also, specify if we are to maximize or minimize it."
      ],
      "metadata": {
        "id": "fcd3Bz3ijuCA"
      }
    },
    {
      "cell_type": "code",
      "source": [
        "pip install pulp"
      ],
      "metadata": {
        "colab": {
          "base_uri": "https://localhost:8080/"
        },
        "id": "prK24_oljurv",
        "outputId": "0ccd4519-700e-477d-bf3b-2cade1f96496"
      },
      "execution_count": 2,
      "outputs": [
        {
          "output_type": "stream",
          "name": "stdout",
          "text": [
            "Collecting pulp\n",
            "  Downloading PuLP-2.7.0-py3-none-any.whl (14.3 MB)\n",
            "\u001b[2K     \u001b[90m━━━━━━━━━━━━━━━━━━━━━━━━━━━━━━━━━━━━━━━━\u001b[0m \u001b[32m14.3/14.3 MB\u001b[0m \u001b[31m20.8 MB/s\u001b[0m eta \u001b[36m0:00:00\u001b[0m\n",
            "\u001b[?25hInstalling collected packages: pulp\n",
            "Successfully installed pulp-2.7.0\n"
          ]
        }
      ]
    },
    {
      "cell_type": "code",
      "source": [
        "from pulp import*"
      ],
      "metadata": {
        "id": "Fmrp95WXogYh"
      },
      "execution_count": 3,
      "outputs": []
    },
    {
      "cell_type": "code",
      "source": [
        "prob = LpProblem('Optimize_Investment',LpMaximize)"
      ],
      "metadata": {
        "id": "3drc6t3io5TR"
      },
      "execution_count": 4,
      "outputs": []
    },
    {
      "cell_type": "code",
      "source": [
        "x_1 = LpVariable('x_1',0, None)\n",
        "x_2 = LpVariable('x_2',0, None)\n",
        "x_3 = LpVariable('x_3',0, None)\n",
        "x_4 = LpVariable('x_4',0, None)\n",
        "x_5 = LpVariable('x_5',0, None)\n",
        "x_6 = LpVariable('x_6',0, None)\n",
        "\n",
        "variables = [x_1,x_2,x_3,x_4,x_5,x_6]"
      ],
      "metadata": {
        "id": "HAJAEpx1pHhX"
      },
      "execution_count": 7,
      "outputs": []
    },
    {
      "cell_type": "code",
      "source": [
        "#objective function\n",
        "\n",
        "prob += 25*x_1 + 20*x_2 + 3*x_3 + 1.5*x_4 + 3*x_5 + 4.50*x_6\n",
        "\n",
        "\n"
      ],
      "metadata": {
        "colab": {
          "base_uri": "https://localhost:8080/"
        },
        "id": "Lu1a-dwOqGiL",
        "outputId": "02fc559e-5f5b-440f-f274-706de576c3a0"
      },
      "execution_count": 15,
      "outputs": [
        {
          "output_type": "stream",
          "name": "stderr",
          "text": [
            "/usr/local/lib/python3.10/dist-packages/pulp/pulp.py:1704: UserWarning: Overwriting previously set objective.\n",
            "  warnings.warn(\"Overwriting previously set objective.\")\n"
          ]
        }
      ]
    },
    {
      "cell_type": "code",
      "source": [
        "#constraints\n",
        "total_cost_limit = 10000\n",
        "\n",
        "prob += 129*x_1 + 286*x_2 + 72.29*x_3 + 38*x_4 + 52*x_5 + 148*x_6 <= total_cost_limit\n",
        "\n",
        "prob += 129*x_1 + 286*x_2 <= 2/3 * total_cost_limit\n",
        "prob += 72.29*x_3 + 38*x_4 <= 2/3 * total_cost_limit\n",
        "prob += 52*x_5 + 148*x_6 <= 2/3 * total_cost_limit\n",
        "\n",
        "prob += 129*x_1 + 286*x_2 >= 1/6 * total_cost_limit\n",
        "prob += 72.29*x_3 + 38*x_4 >= 1/6 * total_cost_limit\n",
        "prob += 52*x_5 + 148*x_6 >= 1/6 * total_cost_limit\n",
        "prob += (129*x_1 + 286*x_2 + 72.29*x_3 + 38*x_4 + 52*x_5 + 148*x_6) <= 15 * (1.9*x_1 + 8.1*x_2 + 1.5*x_3 + 5*x_4 + 2.5*x_5 + 5.2*x_6)\n",
        "\n",
        "prob.solve()"
      ],
      "metadata": {
        "colab": {
          "base_uri": "https://localhost:8080/"
        },
        "id": "SuDP7V2OuzPh",
        "outputId": "2fe93f77-c348-4b2d-f803-8157c0b8d5e9"
      },
      "execution_count": 24,
      "outputs": [
        {
          "output_type": "execute_result",
          "data": {
            "text/plain": [
              "1"
            ]
          },
          "metadata": {},
          "execution_count": 24
        }
      ]
    },
    {
      "cell_type": "code",
      "source": [
        "for v in prob.variables():\n",
        "    print(v.name, \"=\", v.varValue)\n",
        "\n",
        "print(\"Maximum Expected Return =\", pulp.value(prob.objective))\n"
      ],
      "metadata": {
        "colab": {
          "base_uri": "https://localhost:8080/"
        },
        "id": "-Ac_FR_a0c9x",
        "outputId": "3b7283e6-1f7e-40bf-9dcd-153c2980af82"
      },
      "execution_count": 25,
      "outputs": [
        {
          "output_type": "stream",
          "name": "stdout",
          "text": [
            "x_1 = 33.830665\n",
            "x_2 = 0.0\n",
            "x_3 = 0.0\n",
            "x_4 = 104.45204\n",
            "x_5 = 32.051282\n",
            "x_6 = 0.0\n",
            "Maximum Expected Return = 1098.598531\n"
          ]
        }
      ]
    },
    {
      "cell_type": "code",
      "source": [
        "assert  abs(value(prob.objective) - 1098.59) <= 0.1, \"Test failed\""
      ],
      "metadata": {
        "id": "o1OL5Gxy6_wa"
      },
      "execution_count": 26,
      "outputs": []
    },
    {
      "cell_type": "code",
      "source": [],
      "metadata": {
        "id": "2Fom9G9q7EZs"
      },
      "execution_count": null,
      "outputs": []
    }
  ]
}
